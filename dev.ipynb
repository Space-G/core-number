{
 "cells": [
  {
   "cell_type": "markdown",
   "id": "d2d3169b",
   "metadata": {},
   "source": [
    "# Does it even work?"
   ]
  },
  {
   "cell_type": "code",
   "execution_count": 4,
   "id": "12c0d1c1",
   "metadata": {},
   "outputs": [
    {
     "data": {
      "text/html": [
       "\n",
       "<style>\n",
       "    * {\n",
       "        # color: red;\n",
       "        font-family: 'Kelmscott Mono', monospace; \n",
       "        font-size: 20px !important;\n",
       "        line-height: 1.1 !important;\n",
       "    }\n",
       "\n",
       "    .output-plaintext, .output-stream, .output {\n",
       "        font-family: 'Kelmscott Mono', monospace; # any monospaced font should work\n",
       "        font-size: 18px !important;\n",
       "        line-height: 1.3 !important;\n",
       "    }\n",
       "</style>\n"
      ],
      "text/plain": [
       "<IPython.core.display.HTML object>"
      ]
     },
     "execution_count": 4,
     "metadata": {},
     "output_type": "execute_result"
    }
   ],
   "source": [
    "# fix for Visual Studio Code\n",
    "from IPython.core.display import HTML\n",
    "\n",
    "HTML(r\"\"\"\n",
    "<style>\n",
    "    * {\n",
    "        # color: red;\n",
    "        font-family: 'Kelmscott Mono', monospace; \n",
    "        font-size: 20px !important;\n",
    "        line-height: 1.1 !important;\n",
    "    }\n",
    "\n",
    "    .output-plaintext, .output-stream, .output {\n",
    "        font-family: 'Kelmscott Mono', monospace; # any monospaced font should work\n",
    "        font-size: 18px !important;\n",
    "        line-height: 1.3 !important;\n",
    "    }\n",
    "</style>\n",
    "\"\"\")"
   ]
  },
  {
   "cell_type": "code",
   "execution_count": 8,
   "id": "d0768f8d",
   "metadata": {},
   "outputs": [
    {
     "data": {
      "text/html": [
       "<table>\n",
       "<tbody>\n",
       "<tr><td>Sun  </td><td style=\"text-align: right;\">696000</td><td style=\"text-align: right;\">   1.9891e+09</td></tr>\n",
       "<tr><td>Earth</td><td style=\"text-align: right;\">  6371</td><td style=\"text-align: right;\">5973.6       </td></tr>\n",
       "<tr><td>Moon </td><td style=\"text-align: right;\">  1737</td><td style=\"text-align: right;\">  73.5       </td></tr>\n",
       "<tr><td>Mars </td><td style=\"text-align: right;\">  3390</td><td style=\"text-align: right;\"> 641.85      </td></tr>\n",
       "</tbody>\n",
       "</table>"
      ],
      "text/plain": [
       "'<table>\\n<tbody>\\n<tr><td>Sun  </td><td style=\"text-align: right;\">696000</td><td style=\"text-align: right;\">   1.9891e+09</td></tr>\\n<tr><td>Earth</td><td style=\"text-align: right;\">  6371</td><td style=\"text-align: right;\">5973.6       </td></tr>\\n<tr><td>Moon </td><td style=\"text-align: right;\">  1737</td><td style=\"text-align: right;\">  73.5       </td></tr>\\n<tr><td>Mars </td><td style=\"text-align: right;\">  3390</td><td style=\"text-align: right;\"> 641.85      </td></tr>\\n</tbody>\\n</table>'"
      ]
     },
     "metadata": {},
     "output_type": "display_data"
    }
   ],
   "source": [
    "import tabulate\n",
    "data = [[\"Sun\",696000,1989100000],\n",
    "         [\"Earth\",6371,5973.6],\n",
    "         [\"Moon\",1737,73.5],\n",
    "         [\"Mars\",3390,641.85]]\n",
    "\n",
    "def print_table(table):\n",
    "    display(tabulate.tabulate(table, tablefmt='html'))\n",
    "\n",
    "print_table(data)"
   ]
  },
  {
   "cell_type": "markdown",
   "id": "dd337620",
   "metadata": {},
   "source": [
    "Cool\n",
    "\n",
    "# Divide the numbers\n",
    "\n",
    "We should start by enumerating all possible divisions of the numbers given the input"
   ]
  },
  {
   "cell_type": "code",
   "execution_count": 44,
   "id": "c05b38e4",
   "metadata": {},
   "outputs": [
    {
     "data": {
      "text/plain": [
       "[[8, 6, 4, 55], [8, 6, 45, 5], [8, 64, 5, 5], [86, 4, 5, 5]]"
      ]
     },
     "execution_count": 44,
     "metadata": {},
     "output_type": "execute_result"
    }
   ],
   "source": [
    "test_number = 86455 # the core number is 18\n",
    "\n",
    "def enum_numbers(original):\n",
    "    ordered_digits = [int(a) for a in str(original)]\n",
    "    numbers = []\n",
    "    for dist in enum_distribution(len(ordered_digits)):\n",
    "        numbers.append([ordered_digits[0 : dist[0]],\n",
    "                        ordered_digits[dist[0] : dist[0] + dist[1]],\n",
    "                        ordered_digits[dist[0] + dist[1] : dist[0] + dist[1] + dist[2]],\n",
    "                        ordered_digits[dist[0] + dist[1] + dist[2] :]])\n",
    "    # this is gonna be ugly, close your eye\n",
    "    formatted_numbers = []\n",
    "    for num in numbers:\n",
    "        formatted_numbers.append([int(''.join([str(x) for x in num[0]])),\n",
    "                                  int(''.join([str(x) for x in num[1]])),\n",
    "                                  int(''.join([str(x) for x in num[2]])),\n",
    "                                  int(''.join([str(x) for x in num[3]]))])\n",
    "    return formatted_numbers\n",
    "\n",
    "def enum_distribution(size):\n",
    "    distributions = []\n",
    "    # range - 2 because it's range, minus 3 for the 1 minimun of the other digits, plus one to include itself because range() is end-exclusive\n",
    "    for a in range(1, size - 2):\n",
    "        for b in range(1, size - 2 - (a - 1)):\n",
    "            for c in range(1, size - 2 - (a - 1) - (b - 1)):\n",
    "                distributions.append([a, b, c, size - (a + b + c)])\n",
    "\n",
    "\n",
    "    return distributions\n",
    "\n",
    "#enum_distribution(6)\n",
    "enum_numbers(test_number)"
   ]
  }
 ],
 "metadata": {
  "kernelspec": {
   "display_name": "core-number-YpyYuDM9",
   "language": "python",
   "name": "python3"
  },
  "language_info": {
   "codemirror_mode": {
    "name": "ipython",
    "version": 3
   },
   "file_extension": ".py",
   "mimetype": "text/x-python",
   "name": "python",
   "nbconvert_exporter": "python",
   "pygments_lexer": "ipython3",
   "version": "3.12.2"
  }
 },
 "nbformat": 4,
 "nbformat_minor": 5
}
