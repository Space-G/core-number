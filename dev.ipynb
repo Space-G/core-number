{
 "cells": [
  {
   "cell_type": "markdown",
   "id": "d2d3169b",
   "metadata": {},
   "source": [
    "# Does it even work?"
   ]
  },
  {
   "cell_type": "code",
   "execution_count": 47,
   "id": "12c0d1c1",
   "metadata": {},
   "outputs": [
    {
     "data": {
      "text/html": [
       "\n",
       "<style>\n",
       "    * {\n",
       "        # color: red;\n",
       "        font-family: 'Kelmscott Mono', monospace; \n",
       "        font-size: 20px !important;\n",
       "        line-height: 1.1 !important;\n",
       "    }\n",
       "\n",
       "    .output-plaintext, .output-stream, .output {\n",
       "        font-family: 'Kelmscott Mono', monospace; # any monospaced font should work\n",
       "        font-size: 18px !important;\n",
       "        line-height: 1.3 !important;\n",
       "    }\n",
       "</style>\n"
      ],
      "text/plain": [
       "<IPython.core.display.HTML object>"
      ]
     },
     "execution_count": 47,
     "metadata": {},
     "output_type": "execute_result"
    }
   ],
   "source": [
    "# fix for Visual Studio Code\n",
    "from IPython.core.display import HTML\n",
    "\n",
    "HTML(r\"\"\"\n",
    "<style>\n",
    "    * {\n",
    "        # color: red;\n",
    "        font-family: 'Kelmscott Mono', monospace; \n",
    "        font-size: 20px !important;\n",
    "        line-height: 1.1 !important;\n",
    "    }\n",
    "\n",
    "    .output-plaintext, .output-stream, .output {\n",
    "        font-family: 'Kelmscott Mono', monospace; # any monospaced font should work\n",
    "        font-size: 18px !important;\n",
    "        line-height: 1.3 !important;\n",
    "    }\n",
    "</style>\n",
    "\"\"\")"
   ]
  },
  {
   "cell_type": "code",
   "execution_count": 48,
   "id": "d0768f8d",
   "metadata": {},
   "outputs": [
    {
     "data": {
      "text/html": [
       "<table>\n",
       "<tbody>\n",
       "<tr><td>Sun  </td><td style=\"text-align: right;\">696000</td><td style=\"text-align: right;\">   1.9891e+09</td></tr>\n",
       "<tr><td>Earth</td><td style=\"text-align: right;\">  6371</td><td style=\"text-align: right;\">5973.6       </td></tr>\n",
       "<tr><td>Moon </td><td style=\"text-align: right;\">  1737</td><td style=\"text-align: right;\">  73.5       </td></tr>\n",
       "<tr><td>Mars </td><td style=\"text-align: right;\">  3390</td><td style=\"text-align: right;\"> 641.85      </td></tr>\n",
       "</tbody>\n",
       "</table>"
      ],
      "text/plain": [
       "'<table>\\n<tbody>\\n<tr><td>Sun  </td><td style=\"text-align: right;\">696000</td><td style=\"text-align: right;\">   1.9891e+09</td></tr>\\n<tr><td>Earth</td><td style=\"text-align: right;\">  6371</td><td style=\"text-align: right;\">5973.6       </td></tr>\\n<tr><td>Moon </td><td style=\"text-align: right;\">  1737</td><td style=\"text-align: right;\">  73.5       </td></tr>\\n<tr><td>Mars </td><td style=\"text-align: right;\">  3390</td><td style=\"text-align: right;\"> 641.85      </td></tr>\\n</tbody>\\n</table>'"
      ]
     },
     "metadata": {},
     "output_type": "display_data"
    }
   ],
   "source": [
    "import tabulate\n",
    "data = [[\"Sun\",696000,1989100000],\n",
    "         [\"Earth\",6371,5973.6],\n",
    "         [\"Moon\",1737,73.5],\n",
    "         [\"Mars\",3390,641.85]]\n",
    "\n",
    "def print_table(table):\n",
    "    display(tabulate.tabulate(table, tablefmt='html'))\n",
    "\n",
    "print_table(data)"
   ]
  },
  {
   "cell_type": "markdown",
   "id": "dd337620",
   "metadata": {},
   "source": [
    "Cool\n",
    "\n",
    "# Divide the numbers\n",
    "\n",
    "We should start by enumerating all possible divisions of the numbers given the input"
   ]
  },
  {
   "cell_type": "code",
   "execution_count": 67,
   "id": "c05b38e4",
   "metadata": {},
   "outputs": [],
   "source": [
    "test_number = 86455 # the core number is 18\n",
    "\n",
    "def enum_numbers(original):\n",
    "    ordered_digits = [int(a) for a in str(original)]\n",
    "    numbers = []\n",
    "    for dist in enum_distribution(len(ordered_digits)):\n",
    "        numbers.append([ordered_digits[0 : dist[0]],\n",
    "                        ordered_digits[dist[0] : dist[0] + dist[1]],\n",
    "                        ordered_digits[dist[0] + dist[1] : dist[0] + dist[1] + dist[2]],\n",
    "                        ordered_digits[dist[0] + dist[1] + dist[2] :]])\n",
    "    # this is gonna be ugly, close your eye\n",
    "    formatted_numbers = []\n",
    "    for num in numbers:\n",
    "        formatted_numbers.append([int(''.join([str(x) for x in num[0]])),\n",
    "                                  int(''.join([str(x) for x in num[1]])),\n",
    "                                  int(''.join([str(x) for x in num[2]])),\n",
    "                                  int(''.join([str(x) for x in num[3]]))])\n",
    "    return formatted_numbers\n",
    "\n",
    "def enum_distribution(size):\n",
    "    distributions = []\n",
    "    # range - 2 because it's range, minus 3 for the 1 minimun of the other digits, plus one to include itself because range() is end-exclusive\n",
    "    for a in range(1, size - 2):\n",
    "        for b in range(1, size - 2 - (a - 1)):\n",
    "            for c in range(1, size - 2 - (a - 1) - (b - 1)):\n",
    "                distributions.append([a, b, c, size - (a + b + c)])\n",
    "    return distributions"
   ]
  },
  {
   "cell_type": "markdown",
   "id": "78787cbf",
   "metadata": {},
   "source": [
    "# We bruteforce all possible operations orders\n",
    "\n",
    "Fuck, I forgot that int division results always in int... Uhh uhhh uhhh idk"
   ]
  },
  {
   "cell_type": "code",
   "execution_count": 68,
   "id": "7566a5de",
   "metadata": {},
   "outputs": [],
   "source": [
    "# it's just 3! possibilities so fuck it we do it by hand\n",
    "def bruteforce_operations(num):\n",
    "    results = []\n",
    "    #-*/\n",
    "    results.append((num[0] - num[1]) * num[2] / float(num[3]))\n",
    "    #-/*\n",
    "    results.append((num[0] - num[1]) / float(num[2]) * num[3])\n",
    "    #*-/\n",
    "    results.append((num[0] * num[1] - num[2]) / float(num[3]))\n",
    "    #*/-\n",
    "    results.append(num[0] * num[1] / float(num[2]) - num[3])\n",
    "    #/-*\n",
    "    results.append((num[0] / float(num[1]) - num[2]) * num[3])\n",
    "    #/*-\n",
    "    results.append(num[0] / float(num[1]) * num[2] - num[3])\n",
    "    # I want to normalize back to int and make it zero if non-whole\n",
    "    for i in range(len(results)):\n",
    "        if results[i].is_integer():\n",
    "            results[i] = int(results[i])\n",
    "        else:\n",
    "            results[i] = 0\n",
    "    return results\n",
    "\n",
    "def min_positive(nums):\n",
    "    minimun = float('inf')\n",
    "    for x in nums:\n",
    "        if x > 0 and x < minimun:\n",
    "            minimun = x\n",
    "    return minimun"
   ]
  },
  {
   "cell_type": "markdown",
   "id": "03a458f0",
   "metadata": {},
   "source": [
    "# Now we tie everything together"
   ]
  },
  {
   "cell_type": "code",
   "execution_count": 69,
   "id": "4aac4dd0",
   "metadata": {},
   "outputs": [
    {
     "data": {
      "text/plain": [
       "18"
      ]
     },
     "execution_count": 69,
     "metadata": {},
     "output_type": "execute_result"
    }
   ],
   "source": [
    "def get_predivided_core_num(num):\n",
    "    return min_positive(bruteforce_operations(num))\n",
    "\n",
    "def get_core_num(num):\n",
    "    return min_positive([min_positive(bruteforce_operations(x)) for x in enum_numbers(num)])\n",
    "\n",
    "#get_predivided_core_num([1000,200,11,2])\n",
    "get_core_num(test_number)"
   ]
  }
 ],
 "metadata": {
  "kernelspec": {
   "display_name": "core-number-YpyYuDM9",
   "language": "python",
   "name": "python3"
  },
  "language_info": {
   "codemirror_mode": {
    "name": "ipython",
    "version": 3
   },
   "file_extension": ".py",
   "mimetype": "text/x-python",
   "name": "python",
   "nbconvert_exporter": "python",
   "pygments_lexer": "ipython3",
   "version": "3.12.2"
  }
 },
 "nbformat": 4,
 "nbformat_minor": 5
}
